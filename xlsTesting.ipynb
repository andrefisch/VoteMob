{
 "cells": [
  {
   "cell_type": "code",
   "execution_count": 1,
   "metadata": {
    "collapsed": false,
    "deletable": true,
    "editable": true
   },
   "outputs": [],
   "source": [
    "import openpyxl\n",
    "xfile = openpyxl.load_workbook('williamAndMary.xlsx')\n",
    "sheet = xfile.get_sheet_by_name('students')"
   ]
  },
  {
   "cell_type": "code",
   "execution_count": 2,
   "metadata": {
    "collapsed": false,
    "deletable": true,
    "editable": true
   },
   "outputs": [
    {
     "name": "stdout",
     "output_type": "stream",
     "text": [
      "Swanson\n",
      "None\n"
     ]
    }
   ],
   "source": [
    "row = sheet.max_row\n",
    "print(sheet['M' + str(row)].value)\n",
    "print(sheet['T' + str(row)].value)\n",
    "# print (sheet['M2'])\n",
    "# writes correctly and saves\n",
    "# sheet['A1'] = 'hello world'\n",
    "# xfile.save('text.xlsx')"
   ]
  }
 ],
 "metadata": {
  "kernelspec": {
   "display_name": "Python 3",
   "language": "python",
   "name": "python3"
  },
  "language_info": {
   "codemirror_mode": {
    "name": "ipython",
    "version": 3
   },
   "file_extension": ".py",
   "mimetype": "text/x-python",
   "name": "python",
   "nbconvert_exporter": "python",
   "pygments_lexer": "ipython3",
   "version": "3.5.2"
  }
 },
 "nbformat": 4,
 "nbformat_minor": 2
}
