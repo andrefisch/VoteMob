{
 "cells": [
  {
   "cell_type": "code",
   "execution_count": 1,
   "metadata": {
    "collapsed": true,
    "deletable": true,
    "editable": true
   },
   "outputs": [],
   "source": [
    "import pycurl\n",
    "from io import BytesIO\n",
    "import pandas"
   ]
  },
  {
   "cell_type": "code",
   "execution_count": 2,
   "metadata": {
    "collapsed": false,
    "deletable": true,
    "editable": true
   },
   "outputs": [
    {
     "name": "stdout",
     "output_type": "stream",
     "text": [
      "       0       1                                  2       3   4    5    6   \\\n",
      "0   Place  School                              Total  Remain  MS   MF   ME   \n",
      "1      1.     NaN                         Notre Dame     186   0   29   30   \n",
      "2      2.     NaN              Ohio State University     161   0   30   29   \n",
      "3      3.     NaN                   Columbia/Barnard     152   0   21   33   \n",
      "4      4.     NaN               Princeton University     145   0   18   18   \n",
      "5      5.     NaN                 Harvard University     124   0   34   25   \n",
      "6      6.     NaN              St. John's University     119   0   28   16   \n",
      "7      7.     NaN      Pennsylvania State University     118   0   28  NaN   \n",
      "8      8.     NaN        Pennsylvania, University of     107   0   13   26   \n",
      "9      9.     NaN                    Duke University      82   0   19   24   \n",
      "10    10.     NaN                Stanford University      78   0   13   17   \n",
      "11    11.     NaN                New York University      67   0   21   22   \n",
      "12    12.     NaN                    Yale University      63   0    7    7   \n",
      "13    13.     NaN             Wayne State University      54   0   15  NaN   \n",
      "14    14.     NaN                     U.C. San Diego      28   0  NaN   14   \n",
      "15    15.     NaN                 Cornell University      25   0  NaN  NaN   \n",
      "16    16.     NaN         NJ Institute of Technology      23   0  NaN    5   \n",
      "17    17.     NaN                  Temple University      20   0  NaN  NaN   \n",
      "18    18.     NaN                     Boston College      16   0  NaN  NaN   \n",
      "19    19.     NaN            Northwestern University      16   0  NaN  NaN   \n",
      "20    20.     NaN  Incarnate Word, University of the      14   0  NaN  NaN   \n",
      "21    21.     NaN                Fairleigh Dickinson      12   0  NaN  NaN   \n",
      "22    22.     NaN             U.S. Air Force Academy      11   0  NaN  NaN   \n",
      "23    23.     NaN                     Vassar College       9   0  NaN  NaN   \n",
      "24    24.     NaN                   UNC, Chapel Hill       9   0  NaN  NaN   \n",
      "25    25.     NaN                             M.I.T.       7   0  NaN  NaN   \n",
      "26    26.     NaN                   Brown University       7   0  NaN    7   \n",
      "27    27.     NaN       Detroit Mercy, University of       3   0  NaN    3   \n",
      "\n",
      "     7    8    9    10    11      12  \n",
      "0    WS   WF   WE  Ind    TS     NaN  \n",
      "1    27   31   39   30  +274  1133.0  \n",
      "2    27   15   38   22  +217  1015.0  \n",
      "3    23   16   40   19  +151  1091.0  \n",
      "4    28   31   13   37  +111   966.0  \n",
      "5    14   22   12   17   -12   898.0  \n",
      "6    31   30  NaN   14  +153   750.0  \n",
      "7    20   29   20   21   +12   838.0  \n",
      "8    25   19   24  NaN   -68   833.0  \n",
      "9    13    7    8   11  -105   625.0  \n",
      "10   20   12    6   10  -141   673.0  \n",
      "11    4   10   10  NaN   -91   553.0  \n",
      "12   10   12   15   12  -208   548.0  \n",
      "13  NaN   14   25  NaN   +83   378.0  \n",
      "14  NaN  NaN  NaN   14   +15   172.0  \n",
      "15  NaN  NaN   16    9   -50   225.0  \n",
      "16    9  NaN  NaN    9   -45   232.0  \n",
      "17  NaN    8  NaN   12   -23   158.0  \n",
      "18    6  NaN  NaN   10   -40   159.0  \n",
      "19  NaN  NaN    6   10   -55   131.0  \n",
      "20   10  NaN    4  NaN   -54   134.0  \n",
      "21  NaN  NaN  NaN   12    +0    93.0  \n",
      "22  NaN   11  NaN  NaN    -2    89.0  \n",
      "23    9  NaN  NaN  NaN    -3    89.0  \n",
      "24  NaN    9  NaN  NaN   -19    79.0  \n",
      "25  NaN  NaN  NaN    7   -15    85.0  \n",
      "26  NaN  NaN  NaN  NaN   -34    66.0  \n",
      "27  NaN  NaN  NaN  NaN   -51    51.0  \n"
     ]
    }
   ],
   "source": [
    "url = 'https://escrimeresults.com/NCAA/ncaa2017.html'\n",
    "\n",
    "buffer = BytesIO()\n",
    "c = pycurl.Curl()\n",
    "c.setopt(c.URL, url)\n",
    "c.setopt(c.WRITEDATA, buffer)\n",
    "c.perform()\n",
    "c.close()\n",
    "\n",
    "body = buffer.getvalue()\n",
    "html = pandas.read_html(body.decode('iso-8859-1'))\n",
    "\n",
    "print (html[-2])"
   ]
  }
 ],
 "metadata": {
  "kernelspec": {
   "display_name": "Python 3",
   "language": "python",
   "name": "python3"
  },
  "language_info": {
   "codemirror_mode": {
    "name": "ipython",
    "version": 3
   },
   "file_extension": ".py",
   "mimetype": "text/x-python",
   "name": "python",
   "nbconvert_exporter": "python",
   "pygments_lexer": "ipython3",
   "version": "3.5.2"
  }
 },
 "nbformat": 4,
 "nbformat_minor": 2
}
