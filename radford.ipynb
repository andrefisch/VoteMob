{
 "cells": [
  {
   "cell_type": "code",
   "execution_count": 46,
   "metadata": {
    "collapsed": true,
    "deletable": true,
    "editable": true
   },
   "outputs": [],
   "source": [
    "from urllib.parse import urlencode\n",
    "#from urllib.request import Request, urlopen\n",
    "import requests\n",
    "import pandas\n",
    "import openpyxl\n",
    "import re\n",
    "import math"
   ]
  },
  {
   "cell_type": "code",
   "execution_count": 47,
   "metadata": {
    "collapsed": false,
    "deletable": true,
    "editable": true
   },
   "outputs": [],
   "source": [
    "# 1.\n",
    "# Open the file for editing\n",
    "xfile = openpyxl.load_workbook('radford.xlsx')\n",
    "# Open the worksheet we want to edit\n",
    "sheet = xfile.get_sheet_by_name('students')"
   ]
  },
  {
   "cell_type": "code",
   "execution_count": 52,
   "metadata": {
    "collapsed": false,
    "deletable": true,
    "editable": true
   },
   "outputs": [
    {
     "name": "stdout",
     "output_type": "stream",
     "text": [
      "[           0          1                    2           3\n",
      "0  Last Name  Full Name  RU Email / Username  Department,                                                    0   \\\n",
      "0   Search by last name or partial last name - Ent...   \n",
      "1                                            RU Links   \n",
      "2                                        RU Home Page   \n",
      "3                                         RU Site Map   \n",
      "4                                       Other Sources   \n",
      "5                             VA Government Directory   \n",
      "6                                    Switchboard .COM   \n",
      "7                                         Four11 .COM   \n",
      "8                                          Who Where?   \n",
      "9                             Internet @ddress Finder   \n",
      "10                                 Classmates On-Line   \n",
      "\n",
      "                                                   1         2             3   \\\n",
      "0   RU Links  RU Home Page  RU Site Map  Other Sou...  RU Links  RU Home Page   \n",
      "1                                                 NaN       NaN           NaN   \n",
      "2                                                 NaN       NaN           NaN   \n",
      "3                                                 NaN       NaN           NaN   \n",
      "4                                                 NaN       NaN           NaN   \n",
      "5                                                 NaN       NaN           NaN   \n",
      "6                                                 NaN       NaN           NaN   \n",
      "7                                                 NaN       NaN           NaN   \n",
      "8                                                 NaN       NaN           NaN   \n",
      "9                                                 NaN       NaN           NaN   \n",
      "10                                                NaN       NaN           NaN   \n",
      "\n",
      "             4              5                        6                 7   \\\n",
      "0   RU Site Map  Other Sources  VA Government Directory  Switchboard .COM   \n",
      "1           NaN            NaN                      NaN               NaN   \n",
      "2           NaN            NaN                      NaN               NaN   \n",
      "3           NaN            NaN                      NaN               NaN   \n",
      "4           NaN            NaN                      NaN               NaN   \n",
      "5           NaN            NaN                      NaN               NaN   \n",
      "6           NaN            NaN                      NaN               NaN   \n",
      "7           NaN            NaN                      NaN               NaN   \n",
      "8           NaN            NaN                      NaN               NaN   \n",
      "9           NaN            NaN                      NaN               NaN   \n",
      "10          NaN            NaN                      NaN               NaN   \n",
      "\n",
      "             8           9                        10                  11  \n",
      "0   Four11 .COM  Who Where?  Internet @ddress Finder  Classmates On-Line  \n",
      "1           NaN         NaN                      NaN                 NaN  \n",
      "2           NaN         NaN                      NaN                 NaN  \n",
      "3           NaN         NaN                      NaN                 NaN  \n",
      "4           NaN         NaN                      NaN                 NaN  \n",
      "5           NaN         NaN                      NaN                 NaN  \n",
      "6           NaN         NaN                      NaN                 NaN  \n",
      "7           NaN         NaN                      NaN                 NaN  \n",
      "8           NaN         NaN                      NaN                 NaN  \n",
      "9           NaN         NaN                      NaN                 NaN  \n",
      "10          NaN         NaN                      NaN                 NaN  ,               0\n",
      "0      RU Links\n",
      "1  RU Home Page\n",
      "2   RU Site Map,                          0\n",
      "0            Other Sources\n",
      "1  VA Government Directory\n",
      "2         Switchboard .COM\n",
      "3              Four11 .COM\n",
      "4               Who Where?\n",
      "5  Internet @ddress Finder\n",
      "6       Classmates On-Line,                                                    0  \\\n",
      "0  Notice This RU Campus Directory is provided as...   \n",
      "\n",
      "                                                   1  \\\n",
      "0  RU Students If you do not want your informatio...   \n",
      "\n",
      "                                                   2  \n",
      "0  Faculty & Staff If you do not want your inform...  ]\n"
     ]
    },
    {
     "data": {
      "text/plain": [
       "'\\nif \"<table\" in str(json):\\n    html = pandas.read_html(json)\\n    #print (html)\\n    email = html[0][1][3]\\n    for i in range(2, len(html[0][1])):\\n        if lastName in html[0][0][i] and firstName in html[0][0][i]:\\n            p = re.compile(\\'\\\\w*@odu\\\\.edu\\')\\n            # print (isinstance(html[0][2][i], str))\\n            if (isinstance(html[0][1][i], str)):\\n                m = p.search(html[0][1][i])\\n                if (m):\\n                    #print(m.group())\\n                    sheet[\\'D\\' + str(row)] = m.group()\\n                    # Keep track of how close we are to being done\\n                    #print (str(format((row - start) / (end - start) * 100.00, \\'.2f\\')) + \"%: \" + m.group())\\n                    '"
      ]
     },
     "execution_count": 52,
     "metadata": {},
     "output_type": "execute_result"
    }
   ],
   "source": [
    "row = 2\n",
    "# A. \n",
    "firstName = sheet['B' + str(row)].value\n",
    "lastName = sheet['C' + str(row)].value\n",
    "lastName = 'smith'\n",
    "\n",
    "url = 'https://webapps.radford.edu/ru-directory/content/search/partialLastName'\n",
    "s = requests.Session()\n",
    "p = dict(pln = lastName)\n",
    "r = s.get(url, params = p) \n",
    "# use the cert=/path/to/certificate.pem if you need it\n",
    "# elsewhere use verify = False to bypass ssl verification\n",
    "c = r.cookies\n",
    "jsession = c.items()[0][1]\n",
    "jUrl = 'https://webapps.radford.edu/ru-directory/content/results/partialLastName;jsessionid=' + jsession\n",
    "# Then send back a response using those same cookies\n",
    "page = requests.get(jUrl, cookies = c, verify = True)\n",
    "content = pandas.read_html(page.content)\n",
    "print (content)\n",
    "#url = 'https://www.odu.edu/directory'\n",
    "#post_fields = {'pln': lastName}\n",
    "#request = Request(url)#, urlencode(post_fields).encode())\n",
    "#json = urlopen(request).read()\n",
    "#print (json)\n",
    "# Make sure there are any results for the search\n",
    "'''\n",
    "if \"<table\" in str(json):\n",
    "    html = pandas.read_html(json)\n",
    "    #print (html)\n",
    "    email = html[0][1][3]\n",
    "    for i in range(2, len(html[0][1])):\n",
    "        if lastName in html[0][0][i] and firstName in html[0][0][i]:\n",
    "            p = re.compile('\\w*@odu\\.edu')\n",
    "            # print (isinstance(html[0][2][i], str))\n",
    "            if (isinstance(html[0][1][i], str)):\n",
    "                m = p.search(html[0][1][i])\n",
    "                if (m):\n",
    "                    #print(m.group())\n",
    "                    sheet['D' + str(row)] = m.group()\n",
    "                    # Keep track of how close we are to being done\n",
    "                    #print (str(format((row - start) / (end - start) * 100.00, '.2f')) + \"%: \" + m.group())\n",
    "                    '''"
   ]
  }
 ],
 "metadata": {
  "kernelspec": {
   "display_name": "Python 3",
   "language": "python",
   "name": "python3"
  },
  "language_info": {
   "codemirror_mode": {
    "name": "ipython",
    "version": 3
   },
   "file_extension": ".py",
   "mimetype": "text/x-python",
   "name": "python",
   "nbconvert_exporter": "python",
   "pygments_lexer": "ipython3",
   "version": "3.5.2"
  }
 },
 "nbformat": 4,
 "nbformat_minor": 2
}
